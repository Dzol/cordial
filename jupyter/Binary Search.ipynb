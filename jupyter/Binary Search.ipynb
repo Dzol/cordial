{
 "cells": [
  {
   "cell_type": "code",
   "execution_count": 37,
   "metadata": {
    "collapsed": false
   },
   "outputs": [
    {
     "data": {
      "text/plain": [
       "{:module, BinarySearch, <<70, 79, 82, 49, 0, 0, 7, 84, 66, 69, 65, 77, 65, 116, 85, 56, 0, 0, 0, 186, 0, 0, 0, 23, 19, 69, 108, 105, 120, 105, 114, 46, 66, 105, 110, 97, 114, 121, 83, 101, 97, 114, 99, 104, 8, 95, 95, ...>>, {:middle, 2}}"
      ]
     },
     "execution_count": 37,
     "metadata": {},
     "output_type": "execute_result"
    }
   ],
   "source": [
    "defmodule BinarySearch do\n",
    "  def go(binary, value) do\n",
    "    go(binary, value, 0, Kernel.byte_size(binary) - 1)\n",
    "  end\n",
    "\n",
    "  defp go(binary, value, start, stop) when start <= stop do\n",
    "    pivot = :binary.at(binary, middle(start, stop))\n",
    "    cond do\n",
    "      value < pivot ->\n",
    "        stop = middle(start, stop) - 1\n",
    "        go(binary, value, start, stop)\n",
    "\n",
    "      value === pivot ->\n",
    "        middle(start, stop)\n",
    "\n",
    "      pivot < value ->\n",
    "        start = middle(start, stop) + 1\n",
    "        go(binary, value, start, stop)\n",
    "    end\n",
    "  end\n",
    "\n",
    "  defp go(_, _, _, _) do\n",
    "    nil\n",
    "  end\n",
    "\n",
    "  defp middle(start, stop) do\n",
    "    Kernel.div(stop + start, 2)\n",
    "  end\n",
    "end"
   ]
  },
  {
   "cell_type": "code",
   "execution_count": 38,
   "metadata": {
    "collapsed": false
   },
   "outputs": [
    {
     "name": "stdout",
     "output_type": "stream",
     "text": [
      ":\"property last element always in biggest index\"\n",
      ":\"property first element always in smallest index\"\n",
      ":\"property `nil' for absent value\"\n",
      ":\"property index i s.t. 0 =< i < size for present value\"\n"
     ]
    },
    {
     "data": {
      "text/plain": [
       ":ok"
      ]
     },
     "execution_count": 38,
     "metadata": {},
     "output_type": "execute_result"
    }
   ],
   "source": [
    "defmodule BinarySearchTest do\n",
    "  use ExUnit.Case\n",
    "  use ExUnitProperties\n",
    "\n",
    "  property \"index i s.t. 0 =< i < size for present value\" do\n",
    "    check all l <- list_of(byte(), min_length: 1) do\n",
    "      l = Enum.sort(l)\n",
    "      b = Enum.into(l, <<>>, & <<&1>>)\n",
    "      assert BinarySearch.go(b, Enum.random(l)) in 0..(Kernel.length(l) - 1)\n",
    "    end\n",
    "  end\n",
    "\n",
    "  property \"`nil' for absent value\" do\n",
    "    check all l <- list_of(byte(), min_length: 1) do\n",
    "      v = Enum.random(Enum.into(0..255, []) -- l)\n",
    "      l = Enum.sort(l)\n",
    "      b = Enum.into(l, <<>>, & <<&1>>)\n",
    "      assert BinarySearch.go(b, v) == nil\n",
    "    end\n",
    "  end\n",
    "\n",
    "  property \"first element always in smallest index\" do\n",
    "    check all l <- list_of(byte(), min_length: 1) do\n",
    "      l = Enum.sort(l)\n",
    "      b = Enum.into(l, <<>>, & <<&1>>)\n",
    "      c = Enum.count(l, & List.first(l) === &1) - 1\n",
    "      assert BinarySearch.go(b, List.first(l)) in 0..c\n",
    "    end\n",
    "  end\n",
    "\n",
    "  property \"last element always in biggest index\" do\n",
    "    check all l <- list_of(byte(), min_length: 1) do\n",
    "      l = Enum.sort(l)\n",
    "      b = Enum.into(l, <<>>, & <<&1>>)\n",
    "      c = Enum.count(l, & List.last(l) === &1)\n",
    "      assert BinarySearch.go(b, List.last(l)) in (Kernel.length(l) - 1)..(Kernel.length(l) - c - 1)\n",
    "    end\n",
    "  end\n",
    "end\n",
    "\n",
    "try do\n",
    "  JupyterTest.go BinarySearchTest\n",
    "rescue\n",
    "  x ->\n",
    "    IO.puts(\"\\n\"); IO.puts(x.message)\n",
    "end"
   ]
  },
  {
   "cell_type": "code",
   "execution_count": 39,
   "metadata": {
    "collapsed": false
   },
   "outputs": [
    {
     "data": {
      "text/plain": [
       "1"
      ]
     },
     "execution_count": 39,
     "metadata": {},
     "output_type": "execute_result"
    }
   ],
   "source": [
    "BinarySearch.go(<<9,9,169>>, 9)"
   ]
  },
  {
   "cell_type": "code",
   "execution_count": 40,
   "metadata": {
    "collapsed": false
   },
   "outputs": [
    {
     "data": {
      "text/plain": [
       "2"
      ]
     },
     "execution_count": 40,
     "metadata": {},
     "output_type": "execute_result"
    }
   ],
   "source": [
    "BinarySearch.go(<<9,9,169>>, 169)"
   ]
  },
  {
   "cell_type": "code",
   "execution_count": 41,
   "metadata": {
    "collapsed": false
   },
   "outputs": [
    {
     "data": {
      "text/plain": [
       "nil"
      ]
     },
     "execution_count": 41,
     "metadata": {},
     "output_type": "execute_result"
    }
   ],
   "source": [
    "BinarySearch.go(<<9,9,169>>, 8)"
   ]
  },
  {
   "cell_type": "code",
   "execution_count": null,
   "metadata": {
    "collapsed": true
   },
   "outputs": [],
   "source": []
  }
 ],
 "metadata": {
  "kernelspec": {
   "display_name": "Elixir",
   "language": "Elixir",
   "name": "ielixir"
  },
  "language_info": {
   "codemirror_mode": "elixir",
   "file_extension": "ex",
   "mimetype": "text/x-elixir",
   "name": "elixir",
   "nbconvert_exporter": "",
   "pygments_lexer": "elixir",
   "version": "#Version<1.6.2>"
  }
 },
 "nbformat": 4,
 "nbformat_minor": 1
}
