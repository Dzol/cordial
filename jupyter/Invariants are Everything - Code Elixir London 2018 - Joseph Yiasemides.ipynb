{
 "cells": [
  {
   "cell_type": "markdown",
   "metadata": {},
   "source": [
    "# Prerequisites\n",
    "\n",
    "We need the following for the presentation cells to work"
   ]
  },
  {
   "cell_type": "markdown",
   "metadata": {},
   "source": [
    "Move to the right directory"
   ]
  },
  {
   "cell_type": "code",
   "execution_count": 1,
   "metadata": {
    "collapsed": false
   },
   "outputs": [
    {
     "data": {
      "text/plain": [
       "false"
      ]
     },
     "execution_count": 1,
     "metadata": {},
     "output_type": "execute_result"
    }
   ],
   "source": [
    "File.cwd!() =~ \"cordial\""
   ]
  },
  {
   "cell_type": "code",
   "execution_count": 2,
   "metadata": {
    "collapsed": false
   },
   "outputs": [
    {
     "name": "stdout",
     "output_type": "stream",
     "text": [
      "\u001b[22m/Users/josephyiasemides/project/cordial\u001b[0m\n"
     ]
    }
   ],
   "source": [
    "d = \"~/project/cordial\"; cd(d)"
   ]
  },
  {
   "cell_type": "markdown",
   "metadata": {},
   "source": [
    "---\n",
    "An Extrema Stack for Integers"
   ]
  },
  {
   "cell_type": "code",
   "execution_count": 3,
   "metadata": {
    "collapsed": false
   },
   "outputs": [
    {
     "data": {
      "text/plain": [
       "{:module, Mach, <<70, 79, 82, 49, 0, 0, 3, 80, 66, 69, 65, 77, 65, 116, 85, 56, 0, 0, 0, 118, 0, 0, 0, 12, 11, 69, 108, 105, 120, 105, 114, 46, 77, 97, 99, 104, 8, 95, 95, 105, 110, 102, 111, 95, 95, 3, 109, ...>>, {:module, Mach.Stack, <<70, 79, 82, 49, 0, 0, 9, 4, 66, 69, 65, 77, 65, 116, 85, 56, 0, 0, 0, 213, 0, 0, 0, 26, 17, 69, 108, 105, 120, 105, 114, 46, 77, 97, 99, 104, 46, 83, 116, 97, 99, 107, 8, ...>>, {:maxima, 1}}}"
      ]
     },
     "execution_count": 3,
     "metadata": {},
     "output_type": "execute_result"
    }
   ],
   "source": [
    "defmodule Mach do\n",
    "  defmodule Stack do\n",
    "    @opaque t :: {[integer], [integer], [integer]}\n",
    "\n",
    "    def zero do\n",
    "      {[], [], []}\n",
    "    end\n",
    "\n",
    "    def push({[], [], []}, e) do\n",
    "      {[e], [e], [e]}\n",
    "    end\n",
    "    def push({x, y, z}, e) do\n",
    "      {[Kernel.min(hd(x), e)|x], [e|y], [Kernel.max(hd(z), e)|z]}\n",
    "    end\n",
    "\n",
    "    def pop({[_|r], [e|s], [_|t]}) do\n",
    "      {e, {r,s,t}}\n",
    "    end\n",
    "\n",
    "    def peek(x) do\n",
    "      List.first(collection(x))\n",
    "    end\n",
    "\n",
    "    def minimum(x) do\n",
    "      List.first(minima(x))\n",
    "    end\n",
    "\n",
    "    def maximum(x) do\n",
    "      List.first(maxima(x))\n",
    "    end\n",
    "\n",
    "    defp collection({_, x, _}) do\n",
    "      x\n",
    "    end\n",
    "\n",
    "    defp minima({x, _, _}) do\n",
    "      x\n",
    "    end\n",
    "\n",
    "    defp maxima({_, _, x}) do\n",
    "      x\n",
    "    end\n",
    "  end\n",
    "end"
   ]
  },
  {
   "cell_type": "markdown",
   "metadata": {},
   "source": [
    "---\n",
    "A Heap for Integers"
   ]
  },
  {
   "cell_type": "code",
   "execution_count": 4,
   "metadata": {
    "collapsed": false
   },
   "outputs": [
    {
     "name": "stdout",
     "output_type": "stream",
     "text": [
      "['binary/berg/heap', 'binary/berg/Elixir.Berg.Heap',\n",
      " 'binary/berg/Elixir.Berg.Heap.Element', 'binary/berg/Elixir.Berg']\n"
     ]
    },
    {
     "data": {
      "text/plain": [
       "[module: :heap, module: Berg.Heap, module: Berg.Heap.Element, module: Berg]"
      ]
     },
     "execution_count": 4,
     "metadata": {},
     "output_type": "execute_result"
    }
   ],
   "source": [
    "File.ls!(\"binary/berg\")\n",
    "|> Enum.map(& Path.join([\"binary\", \"berg\", &1]))\n",
    "|> Enum.map(& String.trim(&1, \".beam\"))\n",
    "|> Enum.map(& String.to_charlist/1)\n",
    "|> IO.inspect()\n",
    "|> Enum.map(& :code.load_abs/1)"
   ]
  },
  {
   "cell_type": "markdown",
   "metadata": {},
   "source": [
    "---\n",
    "Load + Configure Elixir's PBT Library"
   ]
  },
  {
   "cell_type": "code",
   "execution_count": 5,
   "metadata": {
    "collapsed": false
   },
   "outputs": [
    {
     "data": {
      "text/plain": [
       "[\"ex_unit_properties.ex\", \"stream_data.ex\", \"stream_data\"]"
      ]
     },
     "execution_count": 5,
     "metadata": {},
     "output_type": "execute_result"
    }
   ],
   "source": [
    "File.ls!(\"deps/stream_data/lib/\")"
   ]
  },
  {
   "cell_type": "code",
   "execution_count": 6,
   "metadata": {
    "collapsed": false
   },
   "outputs": [
    {
     "data": {
      "text/plain": [
       "[\"lazy_tree.ex\"]"
      ]
     },
     "execution_count": 6,
     "metadata": {},
     "output_type": "execute_result"
    }
   ],
   "source": [
    "File.ls!(\"deps/stream_data/lib/stream_data\")"
   ]
  },
  {
   "cell_type": "code",
   "execution_count": 7,
   "metadata": {
    "collapsed": false
   },
   "outputs": [
    {
     "data": {
      "text/plain": [
       "[\"deps/stream_data/lib/stream_data/lazy_tree.ex\", \"deps/stream_data/lib/stream_data.ex\", \"deps/stream_data/lib/ex_unit_properties.ex\"]"
      ]
     },
     "execution_count": 7,
     "metadata": {},
     "output_type": "execute_result"
    }
   ],
   "source": [
    "x = [\n",
    "  \"deps/stream_data/lib/stream_data/lazy_tree.ex\",\n",
    "  \"deps/stream_data/lib/stream_data.ex\",\n",
    "  \"deps/stream_data/lib/ex_unit_properties.ex\"\n",
    "]"
   ]
  },
  {
   "cell_type": "code",
   "execution_count": 8,
   "metadata": {
    "collapsed": false
   },
   "outputs": [
    {
     "data": {
      "text/plain": [
       "[[{Inspect.StreamData.LazyTree, <<70, 79, 82, 49, 0, 0, 10, 12, 66, 69, 65, 77, 65, 116, 85, 56, 0, 0, 1, 101, 0, 0, 0, 34, 34, 69, 108, 105, 120, 105, 114, 46, 73, 110, 115, 112, 101, 99, 116, 46, 83, 116, 114, 101, 97, 109, ...>>}, {StreamData.LazyTree, <<70, 79, 82, 49, 0, 0, 24, 80, 66, 69, 65, 77, 65, 116, 85, 56, 0, 0, 2, 8, 0, 0, 0, 48, 26, 69, 108, 105, 120, 105, 114, 46, 83, 116, 114, 101, 97, 109, 68, 97, 116, 97, 46, 76, 97, ...>>}], [{StreamData.FilterTooNarrowError, <<70, 79, 82, 49, 0, 0, 22, 48, 66, 69, 65, 77, 65, 116, 85, 56, 0, 0, 1, 195, 0, 0, 0, 41, 38, 69, 108, 105, 120, 105, 114, 46, 83, 116, 114, 101, 97, 109, 68, 97, 116, 97, 46, 70, 105, ...>>}, {StreamData.TooManyDuplicatesError, <<70, 79, 82, 49, 0, 0, 16, 136, 66, 69, 65, 77, 65, 116, 85, 56, 0, 0, 1, 172, 0, 0, 0, 38, 40, 69, 108, 105, 120, 105, 114, 46, 83, 116, 114, 101, 97, 109, 68, 97, 116, 97, 46, 84, ...>>}, {Enumerable.StreamData, <<70, 79, 82, 49, 0, 0, 7, 228, 66, 69, 65, 77, 65, 116, 85, 56, 0, 0, 0, 238, 0, 0, 0, 23, 28, 69, 108, 105, 120, 105, 114, 46, 69, 110, 117, 109, 101, 114, 97, 98, 108, 101, 46, ...>>}, {Inspect.StreamData, <<70, 79, 82, 49, 0, 0, 8, 80, 66, 69, 65, 77, 65, 116, 85, 56, 0, 0, 1, 11, 0, 0, 0, 25, 25, 69, 108, 105, 120, 105, 114, 46, 73, 110, 115, 112, 101, 99, 116, 46, 83, 116, ...>>}, {StreamData, <<70, 79, 82, 49, 0, 1, 26, 124, 66, 69, 65, 77, 65, 116, 85, 56, 0, 0, 20, 225, 0, 0, 1, 78, 17, 69, 108, 105, 120, 105, 114, 46, 83, 116, 114, 101, 97, 109, 68, 97, 116, ...>>}], [{ExUnitProperties.Error, <<70, 79, 82, 49, 0, 0, 12, 200, 66, 69, 65, 77, 65, 116, 85, 56, 0, 0, 1, 96, 0, 0, 0, 34, 29, 69, 108, 105, 120, 105, 114, 46, 69, 120, 85, 110, 105, 116, 80, 114, 111, 112, 101, 114, ...>>}, {ExUnitProperties, <<70, 79, 82, 49, 0, 0, 72, 156, 66, 69, 65, 77, 65, 116, 85, 56, 0, 0, 5, 7, 0, 0, 0, 111, 23, 69, 108, 105, 120, 105, 114, 46, 69, 120, 85, 110, 105, 116, 80, 114, 111, 112, 101, ...>>}]]"
      ]
     },
     "execution_count": 8,
     "metadata": {},
     "output_type": "execute_result"
    }
   ],
   "source": [
    "Enum.map(x, &Code.load_file/1)"
   ]
  },
  {
   "cell_type": "code",
   "execution_count": 9,
   "metadata": {
    "collapsed": false
   },
   "outputs": [
    {
     "data": {
      "text/plain": [
       "[{StreamData.Mixfile, <<70, 79, 82, 49, 0, 0, 8, 152, 66, 69, 65, 77, 65, 116, 85, 56, 0, 0, 0, 197, 0, 0, 0, 20, 25, 69, 108, 105, 120, 105, 114, 46, 83, 116, 114, 101, 97, 109, 68, 97, 116, 97, 46, 77, 105, 120, 102, ...>>}]"
      ]
     },
     "execution_count": 9,
     "metadata": {},
     "output_type": "execute_result"
    }
   ],
   "source": [
    "Code.load_file(\"deps/stream_data/mix.exs\")"
   ]
  },
  {
   "cell_type": "code",
   "execution_count": 10,
   "metadata": {
    "collapsed": false
   },
   "outputs": [
    {
     "data": {
      "text/plain": [
       "[initial_size: 1, max_runs: 100, max_run_time: :infinity, max_shrinking_steps: 100]"
      ]
     },
     "execution_count": 10,
     "metadata": {},
     "output_type": "execute_result"
    }
   ],
   "source": [
    "configuration = [\n",
    "        initial_size: 1,\n",
    "        max_runs: 100,\n",
    "        max_run_time: :infinity,\n",
    "        max_shrinking_steps: 100\n",
    "      ]"
   ]
  },
  {
   "cell_type": "code",
   "execution_count": 11,
   "metadata": {
    "collapsed": false
   },
   "outputs": [
    {
     "data": {
      "text/plain": [
       ":ok"
      ]
     },
     "execution_count": 11,
     "metadata": {},
     "output_type": "execute_result"
    }
   ],
   "source": [
    "f = fn {name, value} ->\n",
    "  Application.put_env(:stream_data, name, value)\n",
    "end\n",
    "Enum.each(configuration, f)"
   ]
  },
  {
   "cell_type": "markdown",
   "metadata": {},
   "source": [
    "---\n",
    "ExUnit + Test Helper for Elixir/Jupyter"
   ]
  },
  {
   "cell_type": "code",
   "execution_count": 12,
   "metadata": {
    "collapsed": false
   },
   "outputs": [
    {
     "data": {
      "text/plain": [
       "{:module, JupyterTest, <<70, 79, 82, 49, 0, 0, 6, 228, 66, 69, 65, 77, 65, 116, 85, 56, 0, 0, 1, 13, 0, 0, 0, 30, 18, 69, 108, 105, 120, 105, 114, 46, 74, 117, 112, 121, 116, 101, 114, 84, 101, 115, 116, 8, 95, 95, 105, ...>>, {:context, 0}}"
      ]
     },
     "execution_count": 12,
     "metadata": {},
     "output_type": "execute_result"
    }
   ],
   "source": [
    "defmodule JupyterTest do\n",
    "  def go module do\n",
    "    module.__ex_unit__()\n",
    "    |> Map.fetch!(:tests)\n",
    "    |> Enum.each(&run/1)\n",
    "  end\n",
    "\n",
    "  defp run %ExUnit.Test{module: m, name: f} do\n",
    "    IO.inspect(f); a = [context()]; Kernel.apply(m, f, a)\n",
    "  end\n",
    "\n",
    "  defp context do\n",
    "    %{}\n",
    "  end\n",
    "end"
   ]
  },
  {
   "cell_type": "code",
   "execution_count": 13,
   "metadata": {
    "collapsed": false
   },
   "outputs": [
    {
     "data": {
      "text/plain": [
       "nil"
      ]
     },
     "execution_count": 13,
     "metadata": {},
     "output_type": "execute_result"
    }
   ],
   "source": [
    "ExUnit.start(autorun: false)"
   ]
  },
  {
   "cell_type": "markdown",
   "metadata": {},
   "source": [
    "---\n",
    "Test Suite"
   ]
  },
  {
   "cell_type": "code",
   "execution_count": 14,
   "metadata": {
    "collapsed": false
   },
   "outputs": [
    {
     "data": {
      "text/plain": [
       "{:module, MTest, <<70, 79, 82, 49, 0, 0, 10, 180, 66, 69, 65, 77, 65, 116, 85, 56, 0, 0, 1, 17, 0, 0, 0, 27, 12, 69, 108, 105, 120, 105, 114, 46, 77, 84, 101, 115, 116, 8, 95, 95, 105, 110, 102, 111, 95, 95, 9, ...>>, {:\"test bad arithmetic\", 1}}"
      ]
     },
     "execution_count": 14,
     "metadata": {},
     "output_type": "execute_result"
    }
   ],
   "source": [
    "defmodule MTest do\n",
    "  use ExUnit.Case\n",
    "\n",
    "  test \"good arithmetic\" do\n",
    "    assert 1 + 1 === 2\n",
    "  end\n",
    "\n",
    "  test \"bad arithmetic\" do\n",
    "    refute 1 + 1 === 0\n",
    "  end\n",
    "end"
   ]
  },
  {
   "cell_type": "code",
   "execution_count": 15,
   "metadata": {
    "collapsed": false
   },
   "outputs": [
    {
     "name": "stdout",
     "output_type": "stream",
     "text": [
      ":\"test bad arithmetic\"\n",
      ":\"test good arithmetic\"\n"
     ]
    },
    {
     "data": {
      "text/plain": [
       ":ok"
      ]
     },
     "execution_count": 15,
     "metadata": {},
     "output_type": "execute_result"
    }
   ],
   "source": [
    "JupyterTest.go MTest"
   ]
  },
  {
   "cell_type": "code",
   "execution_count": 16,
   "metadata": {
    "collapsed": false
   },
   "outputs": [
    {
     "data": {
      "text/plain": [
       "{:module, MTest, <<70, 79, 82, 49, 0, 0, 19, 80, 66, 69, 65, 77, 65, 116, 85, 56, 0, 0, 3, 19, 0, 0, 0, 63, 12, 69, 108, 105, 120, 105, 114, 46, 77, 84, 101, 115, 116, 8, 95, 95, 105, 110, 102, 111, 95, 95, 9, ...>>, {:\"property abs/1 is natural\", 1}}"
      ]
     },
     "execution_count": 16,
     "metadata": {},
     "output_type": "execute_result"
    }
   ],
   "source": [
    "defmodule MTest do\n",
    "  use ExUnit.Case\n",
    "  use ExUnitProperties\n",
    "\n",
    "  property \"abs/1 is natural\" do\n",
    "    check all i <- integer() do\n",
    "      assert Kernel.abs(i) >= 0\n",
    "    end\n",
    "  end\n",
    "end"
   ]
  },
  {
   "cell_type": "code",
   "execution_count": 17,
   "metadata": {
    "collapsed": false
   },
   "outputs": [
    {
     "name": "stdout",
     "output_type": "stream",
     "text": [
      ":\"property abs/1 is natural\"\n"
     ]
    },
    {
     "data": {
      "text/plain": [
       ":ok"
      ]
     },
     "execution_count": 17,
     "metadata": {},
     "output_type": "execute_result"
    }
   ],
   "source": [
    "JupyterTest.go MTest"
   ]
  },
  {
   "cell_type": "markdown",
   "metadata": {
    "collapsed": true
   },
   "source": [
    "# Invariants are Everything\n",
    "\n",
    "**Edit:** Invariant's are~~n't~~ Everything"
   ]
  },
  {
   "cell_type": "markdown",
   "metadata": {
    "collapsed": true
   },
   "source": [
    "## This Talk\n",
    "\n",
    "- Go against the grain\n",
    "- Show PBT away from a technical domain\n",
    "- Make the case for its inclusion in core || near"
   ]
  },
  {
   "cell_type": "markdown",
   "metadata": {},
   "source": [
    "## Rationale\n",
    "\n",
    "What does `M.f/2` do?"
   ]
  },
  {
   "cell_type": "code",
   "execution_count": 18,
   "metadata": {
    "collapsed": false
   },
   "outputs": [
    {
     "data": {
      "text/plain": [
       "{:module, M, <<70, 79, 82, 49, 0, 0, 4, 72, 66, 69, 65, 77, 65, 116, 85, 56, 0, 0, 0, 121, 0, 0, 0, 14, 8, 69, 108, 105, 120, 105, 114, 46, 77, 8, 95, 95, 105, 110, 102, 111, 95, 95, 9, 102, 117, 110, 99, ...>>, {:f, 2}}"
      ]
     },
     "execution_count": 18,
     "metadata": {},
     "output_type": "execute_result"
    }
   ],
   "source": [
    "defmodule M do\n",
    "  @spec f(Enumerable.t(), function()) :: boolean()\n",
    "  def f(x, y) do\n",
    "    ## ...\n",
    "  end\n",
    "end"
   ]
  },
  {
   "cell_type": "markdown",
   "metadata": {},
   "source": [
    "Other examples"
   ]
  },
  {
   "cell_type": "code",
   "execution_count": 19,
   "metadata": {
    "collapsed": false
   },
   "outputs": [
    {
     "data": {
      "text/plain": [
       "{:module, Stack, <<70, 79, 82, 49, 0, 0, 3, 128, 66, 69, 65, 77, 65, 116, 85, 56, 0, 0, 0, 119, 0, 0, 0, 12, 12, 69, 108, 105, 120, 105, 114, 46, 83, 116, 97, 99, 107, 8, 95, 95, 105, 110, 102, 111, 95, 95, 3, ...>>, {:pop, 1}}"
      ]
     },
     "execution_count": 19,
     "metadata": {},
     "output_type": "execute_result"
    }
   ],
   "source": [
    "defmodule Stack do\n",
    "  def push(s, e)\n",
    "  def pop(s)\n",
    "end"
   ]
  },
  {
   "cell_type": "code",
   "execution_count": 20,
   "metadata": {
    "collapsed": false
   },
   "outputs": [
    {
     "data": {
      "text/plain": [
       "{:module, Queue, <<70, 79, 82, 49, 0, 0, 3, 84, 66, 69, 65, 77, 65, 116, 85, 56, 0, 0, 0, 119, 0, 0, 0, 12, 12, 69, 108, 105, 120, 105, 114, 46, 81, 117, 101, 117, 101, 8, 95, 95, 105, 110, 102, 111, 95, 95, 3, ...>>, nil}"
      ]
     },
     "execution_count": 20,
     "metadata": {},
     "output_type": "execute_result"
    }
   ],
   "source": [
    "defmodule Queue do\n",
    "end"
   ]
  },
  {
   "cell_type": "markdown",
   "metadata": {},
   "source": [
    "## Compare & Contrast Concrete Testing w/ PB Testing"
   ]
  },
  {
   "cell_type": "code",
   "execution_count": 21,
   "metadata": {
    "collapsed": false
   },
   "outputs": [
    {
     "data": {
      "text/plain": [
       "{:module, Mu, <<70, 79, 82, 49, 0, 0, 4, 168, 66, 69, 65, 77, 65, 116, 85, 56, 0, 0, 0, 130, 0, 0, 0, 15, 9, 69, 108, 105, 120, 105, 114, 46, 77, 117, 8, 95, 95, 105, 110, 102, 111, 95, 95, 9, 102, 117, 110, ...>>, {:fibonacci, 1}}"
      ]
     },
     "execution_count": 21,
     "metadata": {},
     "output_type": "execute_result"
    }
   ],
   "source": [
    "defmodule Mu do\n",
    "  def fibonacci(0), do: 0\n",
    "  def fibonacci(1), do: 1\n",
    "  def fibonacci(x), do: fibonacci(x-1) + fibonacci(x-2)\n",
    "end"
   ]
  },
  {
   "cell_type": "code",
   "execution_count": 22,
   "metadata": {
    "collapsed": false
   },
   "outputs": [
    {
     "name": "stdout",
     "output_type": "stream",
     "text": [
      ":\"test first few fibonacci\"\n"
     ]
    },
    {
     "data": {
      "text/plain": [
       ":ok"
      ]
     },
     "execution_count": 22,
     "metadata": {},
     "output_type": "execute_result"
    }
   ],
   "source": [
    "defmodule MuTest do\n",
    "  use ExUnit.Case\n",
    "\n",
    "  ## ✏️\n",
    "\n",
    "  test \"first few fibonacci\" do\n",
    "    assert Mu.fibonacci(2) === 1\n",
    "    assert Mu.fibonacci(3) === 2\n",
    "    assert Mu.fibonacci(4) === 3\n",
    "  end\n",
    "end\n",
    "JupyterTest.go MuTest"
   ]
  },
  {
   "cell_type": "code",
   "execution_count": 23,
   "metadata": {
    "collapsed": false
   },
   "outputs": [
    {
     "name": "stdout",
     "output_type": "stream",
     "text": [
      ":\"test a longer sequence\"\n"
     ]
    },
    {
     "data": {
      "text/plain": [
       ":ok"
      ]
     },
     "execution_count": 23,
     "metadata": {},
     "output_type": "execute_result"
    }
   ],
   "source": [
    "defmodule MuTest do\n",
    "  use ExUnit.Case\n",
    "\n",
    "  test \"a longer sequence\" do\n",
    "    f = [0,1,1,2,3,5,8,13,21]\n",
    "    for {input, output} <- Enum.zip(0..8, f) do\n",
    "      assert Mu.fibonacci(input) === output\n",
    "    end\n",
    "  end\n",
    "end\n",
    "JupyterTest.go MuTest"
   ]
  },
  {
   "cell_type": "code",
   "execution_count": 24,
   "metadata": {
    "collapsed": false
   },
   "outputs": [
    {
     "name": "stdout",
     "output_type": "stream",
     "text": [
      ":\"test large fibonacci near the Golden Ratio\"\n",
      ":\"property fibonacci/1 is +ve\"\n"
     ]
    },
    {
     "data": {
      "text/plain": [
       ":ok"
      ]
     },
     "execution_count": 24,
     "metadata": {},
     "output_type": "execute_result"
    }
   ],
   "source": [
    "defmodule MuTest do\n",
    "  use ExUnit.Case\n",
    "\n",
    "  ## ✏️\n",
    "\n",
    "  use ExUnitProperties\n",
    "\n",
    "  property \"fibonacci/1 is +ve\" do\n",
    "    check all x <- natural() do\n",
    "      assert fibonacci(x) >= 0\n",
    "    end\n",
    "  end\n",
    "\n",
    "  test \"large fibonacci near the Golden Ratio\" do\n",
    "  end\n",
    "\n",
    "  ## Ignore\n",
    "\n",
    "  defp natural do\n",
    "    bound = 16; StreamData.map(positive_integer(), & Kernel.rem(&1, bound))\n",
    "  end\n",
    "\n",
    "  defp fibonacci(x) do\n",
    "    fibonacci(x, 0, 1)\n",
    "  end\n",
    "\n",
    "  defp fibonacci(0, a, b) do\n",
    "    a\n",
    "  end\n",
    "  defp fibonacci(x, a, b) when x > 0 do\n",
    "    fibonacci(x-1, b, a+b)\n",
    "  end\n",
    "end\n",
    "JupyterTest.go MuTest"
   ]
  },
  {
   "cell_type": "markdown",
   "metadata": {},
   "source": [
    "## An Extended Example"
   ]
  },
  {
   "cell_type": "markdown",
   "metadata": {},
   "source": [
    "| Input | Output |\n",
    "|-------|--------|\n",
    "| -5    | 5      |\n",
    "| -4    | 4      |\n",
    "| -3    | 3      |\n",
    "| -2    | 2      |\n",
    "| -1    | 1      |\n",
    "| 0     | 0      |\n",
    "| 1     | 1      |\n",
    "| 2     | 2      |\n",
    "| 3     | 3      |"
   ]
  },
  {
   "cell_type": "markdown",
   "metadata": {},
   "source": [
    "### Concrete Test"
   ]
  },
  {
   "cell_type": "code",
   "execution_count": 25,
   "metadata": {
    "collapsed": false
   },
   "outputs": [
    {
     "name": "stdout",
     "output_type": "stream",
     "text": [
      ":\"test abs/1 is +ve (or zero) regardles of input's parity\"\n"
     ]
    },
    {
     "data": {
      "text/plain": [
       ":ok"
      ]
     },
     "execution_count": 25,
     "metadata": {},
     "output_type": "execute_result"
    }
   ],
   "source": [
    "defmodule KernelTest do\n",
    "  use ExUnit.Case\n",
    "\n",
    "  test \"abs/1 is +ve (or zero) regardles of input's parity\" do\n",
    "    table = [\n",
    "      {-5, +5},\n",
    "      {0, 0},\n",
    "      {+3, +3}\n",
    "    ]\n",
    "    for {input, output} <- table do\n",
    "      assert Kernel.abs(input) === output\n",
    "    end\n",
    "  end\n",
    "end\n",
    "JupyterTest.go KernelTest"
   ]
  },
  {
   "cell_type": "markdown",
   "metadata": {},
   "source": [
    "### Constructing A PB Test"
   ]
  },
  {
   "cell_type": "code",
   "execution_count": 26,
   "metadata": {
    "collapsed": false
   },
   "outputs": [
    {
     "name": "stdout",
     "output_type": "stream",
     "text": [
      ":\"property abs/1 is +ve regardles of input's parity\"\n"
     ]
    },
    {
     "data": {
      "text/plain": [
       ":ok"
      ]
     },
     "execution_count": 26,
     "metadata": {},
     "output_type": "execute_result"
    }
   ],
   "source": [
    "defmodule KernelTest do ## Transform (thru zero failure)\n",
    "  use ExUnit.Case\n",
    "  use ExUnitProperties\n",
    "\n",
    "  ## ✏️\n",
    "\n",
    "  property \"abs/1 is +ve regardles of input's parity\" do\n",
    "    check all i <- integer(), i != 0 do\n",
    "      assert Kernel.abs(i) > 0\n",
    "    end\n",
    "  end\n",
    "end\n",
    "JupyterTest.go KernelTest"
   ]
  },
  {
   "cell_type": "code",
   "execution_count": 27,
   "metadata": {
    "collapsed": false
   },
   "outputs": [
    {
     "name": "stdout",
     "output_type": "stream",
     "text": [
      ":\"property abs/1 magnitude\"\n"
     ]
    },
    {
     "data": {
      "text/plain": [
       ":ok"
      ]
     },
     "execution_count": 27,
     "metadata": {},
     "output_type": "execute_result"
    }
   ],
   "source": [
    "defmodule KernelTest do ## Transform (thru zero failure)\n",
    "  use ExUnit.Case\n",
    "  use ExUnitProperties\n",
    "\n",
    "  ## ✏️\n",
    "\n",
    "  property \"abs/1 magnitude\" do\n",
    "    check all i <- integer() do\n",
    "      assert square(Kernel.abs(i)) === square(i)\n",
    "    end\n",
    "  end\n",
    "\n",
    "  defp square x do\n",
    "    Kernel.round(:math.sqrt(:math.pow(x, 2)))\n",
    "  end\n",
    "end\n",
    "JupyterTest.go KernelTest"
   ]
  },
  {
   "cell_type": "markdown",
   "metadata": {},
   "source": [
    "### A More Complex [Though Still Theoretical/Academic] Example"
   ]
  },
  {
   "cell_type": "code",
   "execution_count": 28,
   "metadata": {
    "collapsed": false
   },
   "outputs": [
    {
     "data": {
      "text/plain": [
       "[maximum: 1, minimum: 1, peek: 1, pop: 1, push: 2, zero: 0]"
      ]
     },
     "execution_count": 28,
     "metadata": {},
     "output_type": "execute_result"
    }
   ],
   "source": [
    "alias Mach.Stack; Stack.__info__(:functions)"
   ]
  },
  {
   "cell_type": "code",
   "execution_count": 29,
   "metadata": {
    "collapsed": false
   },
   "outputs": [
    {
     "data": {
      "text/plain": [
       "[maximum: 1, minimum: 1, peek: 1, pop: 1, push: 2, zero: 0]"
      ]
     },
     "execution_count": 29,
     "metadata": {},
     "output_type": "execute_result"
    }
   ],
   "source": [
    "[\n",
    " maximum: 1,\n",
    " minimum: 1,\n",
    " peek: 1,\n",
    " pop: 1,\n",
    " push: 2,\n",
    " zero: 0\n",
    "]"
   ]
  },
  {
   "cell_type": "markdown",
   "metadata": {},
   "source": [
    "### Iteration Zero"
   ]
  },
  {
   "cell_type": "code",
   "execution_count": 30,
   "metadata": {
    "collapsed": false
   },
   "outputs": [
    {
     "name": "stdout",
     "output_type": "stream",
     "text": [
      ":\"test 0: maximum/1 is biggest element pushed on\"\n"
     ]
    },
    {
     "data": {
      "text/plain": [
       ":ok"
      ]
     },
     "execution_count": 30,
     "metadata": {},
     "output_type": "execute_result"
    }
   ],
   "source": [
    "defmodule Mach.StackTest do\n",
    "  use ExUnit.Case\n",
    "\n",
    "  test \"0: maximum/1 is biggest element pushed on\" do\n",
    "    alias Mach.Stack\n",
    "    x = [8,16,42,23,15,4]\n",
    "    |> Enum.reduce(Stack.zero(), &Stack.push(&2, &1))\n",
    "    assert Stack.maximum(x) === 42\n",
    "  end\n",
    "end\n",
    "JupyterTest.go Mach.StackTest"
   ]
  },
  {
   "cell_type": "markdown",
   "metadata": {},
   "source": [
    "### Make The Machine Randomize"
   ]
  },
  {
   "cell_type": "code",
   "execution_count": 31,
   "metadata": {
    "collapsed": false
   },
   "outputs": [
    {
     "name": "stdout",
     "output_type": "stream",
     "text": [
      ":\"test 1: maximum/1 is biggest element pushed on\"\n"
     ]
    },
    {
     "data": {
      "text/plain": [
       ":ok"
      ]
     },
     "execution_count": 31,
     "metadata": {},
     "output_type": "execute_result"
    }
   ],
   "source": [
    "defmodule Mach.StackTest do\n",
    "  use ExUnit.Case\n",
    "\n",
    "  ## ✏️\n",
    "\n",
    "  test \"1: maximum/1 is biggest element pushed on\" do\n",
    "    alias Mach.Stack\n",
    "    x = [4,8,15,16,23,42]\n",
    "    |> Enum.shuffle()\n",
    "    |> Enum.reduce(Stack.zero(), &Stack.push(&2, &1))\n",
    "    assert Stack.maximum(x) === 42\n",
    "  end\n",
    "end\n",
    "JupyterTest.go Mach.StackTest"
   ]
  },
  {
   "cell_type": "markdown",
   "metadata": {},
   "source": [
    "### Make The Machine Generate Numbers"
   ]
  },
  {
   "cell_type": "code",
   "execution_count": 32,
   "metadata": {
    "collapsed": false
   },
   "outputs": [
    {
     "name": "stdout",
     "output_type": "stream",
     "text": [
      ":\"test 2: maximum/1 is biggest element pushed on\"\n"
     ]
    },
    {
     "data": {
      "text/plain": [
       ":ok"
      ]
     },
     "execution_count": 32,
     "metadata": {},
     "output_type": "execute_result"
    }
   ],
   "source": [
    "defmodule Mach.StackTest do\n",
    "  use ExUnit.Case\n",
    "\n",
    "  ## ✏️\n",
    "\n",
    "  test \"2: maximum/1 is biggest element pushed on\" do\n",
    "    alias Mach.Stack\n",
    "    x = 0..255\n",
    "    |> Enum.shuffle()\n",
    "    |> Enum.reduce(Stack.zero(), &Stack.push(&2, &1))\n",
    "    assert Stack.maximum(x) === 255\n",
    "  end\n",
    "end\n",
    "JupyterTest.go Mach.StackTest"
   ]
  },
  {
   "cell_type": "markdown",
   "metadata": {},
   "source": [
    "### Choose Upper Bound"
   ]
  },
  {
   "cell_type": "code",
   "execution_count": 33,
   "metadata": {
    "collapsed": false
   },
   "outputs": [
    {
     "name": "stdout",
     "output_type": "stream",
     "text": [
      ":\"test 3: maximum/1 is biggest element pushed on\"\n"
     ]
    },
    {
     "data": {
      "text/plain": [
       ":ok"
      ]
     },
     "execution_count": 33,
     "metadata": {},
     "output_type": "execute_result"
    }
   ],
   "source": [
    "defmodule Mach.StackTest do\n",
    "  use ExUnit.Case\n",
    "\n",
    "  ## ✏️\n",
    "\n",
    "  test \"3: maximum/1 is biggest element pushed on\" do\n",
    "    alias Mach.Stack\n",
    "    m = 255; x = 0..m\n",
    "    |> Enum.shuffle()\n",
    "    |> Enum.reduce(Stack.zero(), &Stack.push(&2, &1))\n",
    "    assert Stack.maximum(x) === m\n",
    "  end\n",
    "end\n",
    "JupyterTest.go Mach.StackTest"
   ]
  },
  {
   "cell_type": "markdown",
   "metadata": {},
   "source": [
    "### Move To PBT"
   ]
  },
  {
   "cell_type": "code",
   "execution_count": 34,
   "metadata": {
    "collapsed": false
   },
   "outputs": [
    {
     "name": "stdout",
     "output_type": "stream",
     "text": [
      ":\"property maximum/1 is biggest element pushed on\"\n"
     ]
    },
    {
     "data": {
      "text/plain": [
       ":ok"
      ]
     },
     "execution_count": 34,
     "metadata": {},
     "output_type": "execute_result"
    }
   ],
   "source": [
    "defmodule Mach.StackTest do\n",
    "  use ExUnit.Case\n",
    "  use ExUnitProperties\n",
    "\n",
    "  ## ✏️\n",
    "\n",
    "  property \"maximum/1 is biggest element pushed on\" do\n",
    "    alias Mach.Stack\n",
    "    check all i <- list_of(integer(), min_length: 1) do\n",
    "      o = Enum.reduce(i, Stack.zero(), &Stack.push(&2, &1))\n",
    "      assert Stack.maximum(o) === Enum.max(i)\n",
    "    end\n",
    "  end\n",
    "end\n",
    "JupyterTest.go Mach.StackTest"
   ]
  },
  {
   "cell_type": "markdown",
   "metadata": {},
   "source": [
    "## Conceiving of Properties\n",
    "\n",
    "- Draw a picture\n",
    "- What properties matter to you?\n",
    "- Distinct unit test cases must already capture properties\n",
    "- Model + Invariants\n",
    "- Underlying properties (collections like lists are ordered)\n",
    "- Toy w/ an adversary"
   ]
  },
  {
   "cell_type": "markdown",
   "metadata": {},
   "source": [
    "## PBT in The Wild\n",
    "\n",
    "- Credit Line\n",
    "- Digesting\n",
    "- Authorization: Information Control\n",
    "- On-Boarding, Every-Day Business-Like Logic, Off-Boarding, + Beyond: Coupon System + Recomendation Schemes\n",
    "- UI testing: Optional + Required Fields in A Form & _how often have we had a hang?_"
   ]
  },
  {
   "cell_type": "markdown",
   "metadata": {},
   "source": [
    "### Credit Line"
   ]
  },
  {
   "cell_type": "code",
   "execution_count": 35,
   "metadata": {
    "collapsed": false
   },
   "outputs": [
    {
     "data": {
      "text/plain": [
       "{:module, CreditLine, <<70, 79, 82, 49, 0, 0, 14, 28, 66, 69, 65, 77, 65, 116, 85, 56, 0, 0, 1, 97, 0, 0, 0, 37, 17, 69, 108, 105, 120, 105, 114, 46, 67, 114, 101, 100, 105, 116, 76, 105, 110, 101, 8, 95, 95, 105, 110, ...>>, {:balance, 1}}"
      ]
     },
     "execution_count": 35,
     "metadata": {},
     "output_type": "execute_result"
    }
   ],
   "source": [
    "defmodule CreditLine do\n",
    "  defmodule History do  \n",
    "    defmodule Transaction do\n",
    "      @type t :: {:credit | :debit, integer()}\n",
    "    end\n",
    "\n",
    "    @type t :: [Transaction.t()]\n",
    "\n",
    "    def default do\n",
    "      []\n",
    "    end\n",
    "  end\n",
    "\n",
    "  defstruct [\n",
    "    limit: 0,\n",
    "    history: History.default()\n",
    "  ]\n",
    "\n",
    "  def instance do\n",
    "    %CreditLine{}\n",
    "  end\n",
    "\n",
    "  def limit(x, y) when is_integer(y) and y > 0 do\n",
    "    %CreditLine{x | limit: y}\n",
    "  end\n",
    "\n",
    "  def credit(x, y) when is_integer(y) and y > 0 do\n",
    "    if balance(x) < x.limit do\n",
    "      h = [{:credit, y} | x.history]\n",
    "      %CreditLine{x | history: h}\n",
    "    end\n",
    "  end\n",
    "\n",
    "  def debit(x, y) when is_integer(y) and y > 0 do\n",
    "    h = [{:debit, y} | x.history]\n",
    "    %CreditLine{x | history: h}\n",
    "  end\n",
    "\n",
    "  def balance(x) do\n",
    "    debit = x.history\n",
    "            |> Enum.filter(& Kernel.elem(&1, 0) == :debit)\n",
    "            |> Enum.reduce(& &2 + Kernel.elem(&1, 1))\n",
    "    credit = x.history\n",
    "             |> Enum.filter(& Kernel.elem(&1, 0) == :credit)\n",
    "             |> Enum.reduce(& &2 + Kernel.elem(&1, 1))\n",
    "    debit - credit\n",
    "  end\n",
    "end"
   ]
  },
  {
   "cell_type": "markdown",
   "metadata": {},
   "source": [
    "### Digesting"
   ]
  },
  {
   "cell_type": "code",
   "execution_count": 36,
   "metadata": {
    "collapsed": false
   },
   "outputs": [
    {
     "data": {
      "text/plain": [
       "{:module, Digest, <<70, 79, 82, 49, 0, 0, 7, 16, 66, 69, 65, 77, 65, 116, 85, 56, 0, 0, 0, 233, 0, 0, 0, 24, 13, 69, 108, 105, 120, 105, 114, 46, 68, 105, 103, 101, 115, 116, 8, 95, 95, 105, 110, 102, 111, 95, 95, ...>>, {:batch, 1}}"
      ]
     },
     "execution_count": 36,
     "metadata": {},
     "output_type": "execute_result"
    }
   ],
   "source": [
    "defmodule Digest do\n",
    "  defmodule Communication do\n",
    "    defmodule Content do\n",
    "      @type t :: integer()\n",
    "    end\n",
    "    @type t :: [Content.t()]\n",
    "\n",
    "    def default do\n",
    "      []\n",
    "    end\n",
    "  end\n",
    "\n",
    "  defstruct [\n",
    "    size: 5,\n",
    "    communication: Communication.default()\n",
    "  ]\n",
    "\n",
    "  def batch(x) do\n",
    "    Enum.chunk_every(x.communication, x.size)\n",
    "  end\n",
    "end"
   ]
  },
  {
   "cell_type": "markdown",
   "metadata": {},
   "source": [
    "## PBT ⚠️\n",
    "\n",
    "- Trivial properties [fibonacci test is inductive]\n",
    "- Complex generators [populating an ETS table, building a tree, and interleaving]: exercise the API (w/ a model if we have to)\n",
    "- Special cases rarely hit + violation only after many tries [a zero value or hash\n",
    "ring bound]\n",
    "- Filter generators [negative integer]"
   ]
  },
  {
   "cell_type": "code",
   "execution_count": 37,
   "metadata": {
    "collapsed": false
   },
   "outputs": [
    {
     "name": "stdout",
     "output_type": "stream",
     "text": [
      ":\"test \"\n"
     ]
    },
    {
     "data": {
      "text/plain": [
       ":ok"
      ]
     },
     "execution_count": 37,
     "metadata": {},
     "output_type": "execute_result"
    }
   ],
   "source": [
    "defmodule MuTest do\n",
    "  use ExUnit.Case\n",
    "\n",
    "  test \"\" do\n",
    "    assert Kernel.to_string(fibonacci(32)/fibonacci(31)) =~ \"1.6180339887\" ## 5\n",
    "  end\n",
    "  \n",
    "  ## Ignore\n",
    "\n",
    "  defp natural do\n",
    "    bound = 16; StreamData.map(positive_integer(), & Kernel.rem(&1, bound))\n",
    "  end\n",
    "\n",
    "  defp fibonacci(x) do\n",
    "    fibonacci(x, 0, 1)\n",
    "  end\n",
    "\n",
    "  defp fibonacci(0, a, b) do\n",
    "    a\n",
    "  end\n",
    "  defp fibonacci(x, a, b) when x > 0 do\n",
    "    fibonacci(x-1, b, a+b)\n",
    "  end\n",
    "end\n",
    "JupyterTest.go MuTest"
   ]
  },
  {
   "cell_type": "markdown",
   "metadata": {},
   "source": [
    "## Complex Generators"
   ]
  },
  {
   "cell_type": "code",
   "execution_count": 38,
   "metadata": {
    "collapsed": false
   },
   "outputs": [
    {
     "name": "stdout",
     "output_type": "stream",
     "text": [
      ":\"property output values ⊇ input values\"\n",
      ":\"property output values ⊆ input values\"\n",
      ":\"property as many elements out as put in\"\n",
      ":\"property last element out is the biggest in\"\n",
      ":\"property first element out is the smallest in\"\n"
     ]
    },
    {
     "data": {
      "text/plain": [
       ":ok"
      ]
     },
     "execution_count": 38,
     "metadata": {},
     "output_type": "execute_result"
    }
   ],
   "source": [
    "defmodule BergProperty do\n",
    "  use ExUnit.Case\n",
    "  use ExUnitProperties\n",
    "  import Berg, only: [heapify: 1, listify: 1]\n",
    "\n",
    "  property \"first element out is the smallest in\" do\n",
    "    check all input <- list_of(integer(), min_length: 1) do\n",
    "      out = input |> heapify() |> listify()\n",
    "\n",
    "      assert List.first(out) === Enum.min(input)\n",
    "    end\n",
    "  end\n",
    "\n",
    "  property \"last element out is the biggest in\" do\n",
    "    check all input <- list_of(integer(), min_length: 1) do\n",
    "      out = input |> heapify() |> listify()\n",
    "\n",
    "      assert List.last(out) == Enum.max(input)\n",
    "    end\n",
    "  end\n",
    "\n",
    "  property \"as many elements out as put in\" do\n",
    "    check all input <- list_of(integer(), min_length: 1) do\n",
    "      out = input |> heapify() |> listify()\n",
    "\n",
    "      assert length(out) == length(input)\n",
    "    end\n",
    "  end\n",
    "\n",
    "  property \"output values ⊆ input values\" do\n",
    "    check all input <- list_of(integer(), min_length: 1) do\n",
    "      out = input |> heapify() |> listify()\n",
    "\n",
    "      assert Enum.all?(out, &Enum.member?(input, &1))\n",
    "    end\n",
    "  end\n",
    "\n",
    "  property \"output values ⊇ input values\" do\n",
    "    check all input <- list_of(integer(), min_length: 1) do\n",
    "      out = input |> heapify() |> listify()\n",
    "\n",
    "      assert Enum.all?(input, &Enum.member?(out, &1))\n",
    "    end\n",
    "  end\n",
    "end\n",
    "JupyterTest.go BergProperty"
   ]
  },
  {
   "cell_type": "markdown",
   "metadata": {},
   "source": [
    "### The Special Case"
   ]
  },
  {
   "cell_type": "code",
   "execution_count": 39,
   "metadata": {
    "collapsed": false
   },
   "outputs": [
    {
     "name": "stdout",
     "output_type": "stream",
     "text": [
      ":\"test abs/1 special case\"\n"
     ]
    },
    {
     "data": {
      "text/plain": [
       ":ok"
      ]
     },
     "execution_count": 39,
     "metadata": {},
     "output_type": "execute_result"
    }
   ],
   "source": [
    "defmodule KernelTest do\n",
    "  use ExUnit.Case\n",
    "\n",
    "  test \"abs/1 special case\" do\n",
    "    assert Kernel.abs(0) === 0\n",
    "  end\n",
    "end\n",
    "JupyterTest.go KernelTest"
   ]
  },
  {
   "cell_type": "markdown",
   "metadata": {},
   "source": [
    "### Constructive Generators"
   ]
  },
  {
   "cell_type": "code",
   "execution_count": 40,
   "metadata": {
    "collapsed": false
   },
   "outputs": [
    {
     "data": {
      "text/plain": [
       "{:module, M, <<70, 79, 82, 49, 0, 0, 3, 200, 66, 69, 65, 77, 65, 116, 85, 56, 0, 0, 0, 115, 0, 0, 0, 12, 8, 69, 108, 105, 120, 105, 114, 46, 77, 8, 95, 95, 105, 110, 102, 111, 95, 95, 3, 109, 100, 53, 7, ...>>, {:natural, 0}}"
      ]
     },
     "execution_count": 40,
     "metadata": {},
     "output_type": "execute_result"
    }
   ],
   "source": [
    "defmodule M do\n",
    "  use ExUnitProperties\n",
    "\n",
    "  ## ✏️\n",
    "\n",
    "  defp natural do\n",
    "    StreamData.filter(integer(), & &1 >= 0)\n",
    "  end\n",
    "end"
   ]
  },
  {
   "cell_type": "markdown",
   "metadata": {},
   "source": [
    "## PBT on The Horizon\n",
    "\n",
    "- Possible inclusion in Elixir core\n",
    "- Generators thru Dialyzer declarations\n",
    "- State-full PBT [see R&S talk]"
   ]
  },
  {
   "cell_type": "markdown",
   "metadata": {
    "collapsed": true
   },
   "source": [
    "## Summary\n",
    "\n",
    "..."
   ]
  },
  {
   "cell_type": "code",
   "execution_count": null,
   "metadata": {
    "collapsed": true
   },
   "outputs": [],
   "source": []
  }
 ],
 "metadata": {
  "kernelspec": {
   "display_name": "Elixir",
   "language": "Elixir",
   "name": "ielixir"
  },
  "language_info": {
   "codemirror_mode": "elixir",
   "file_extension": "ex",
   "mimetype": "text/x-elixir",
   "name": "elixir",
   "nbconvert_exporter": "",
   "pygments_lexer": "elixir",
   "version": "#Version<1.6.2>"
  }
 },
 "nbformat": 4,
 "nbformat_minor": 1
}
